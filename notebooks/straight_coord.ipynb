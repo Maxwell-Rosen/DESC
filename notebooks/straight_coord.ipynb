{
 "cells": [
  {
   "cell_type": "code",
   "execution_count": 5,
   "metadata": {},
   "outputs": [
    {
     "name": "stdout",
     "output_type": "stream",
     "text": [
      "DESC version 0+untagged.5711.gad76a49.dirty,using JAX backend, jax version=0.4.14, jaxlib version=0.4.14, dtype=float64\n",
      "Using device: CPU, with 1.78 GB available memory\n"
     ]
    }
   ],
   "source": [
    "import numpy as np\n",
    "from scipy.constants import mu_0\n",
    "\n",
    "# import pytest\n",
    "# from scipy.io import netcdf_file\n",
    "# from scipy.signal import convolve2d\n",
    "\n",
    "# from desc.compute import data_index, rpz2xyz_vec\n",
    "from desc.equilibrium import EquilibriaFamily, Equilibrium\n",
    "\n",
    "# from desc.examples import get\n",
    "from desc.geometry import (\n",
    "    FourierPlanarCurve,\n",
    "    FourierRZCurve,\n",
    "    FourierRZToroidalSurface,\n",
    "    FourierXYZCurve,\n",
    "    ZernikeRZToroidalSection,\n",
    ")\n",
    "from desc.grid import LinearGrid, QuadratureGrid\n",
    "from desc.profiles import PowerSeriesProfile"
   ]
  },
  {
   "cell_type": "markdown",
   "metadata": {},
   "source": [
    "# Compute Test1"
   ]
  },
  {
   "cell_type": "code",
   "execution_count": 2,
   "metadata": {},
   "outputs": [],
   "source": [
    "eq = Equilibrium()\n",
    "\n",
    "B = eq.compute(\"B\")[\"B\"]"
   ]
  },
  {
   "cell_type": "markdown",
   "metadata": {},
   "source": [
    "# Compute Test2"
   ]
  },
  {
   "cell_type": "code",
   "execution_count": 185,
   "metadata": {},
   "outputs": [],
   "source": [
    "eq = Equilibrium(L=3, M=3, N=3)\n",
    "grid = LinearGrid(rho=np.linspace(0.1,1,5), M=5, N=5)\n",
    "rtz = grid.nodes\n",
    "rho = grid.nodes[:, 0]\n",
    "theta = grid.nodes[:, 1]\n",
    "a0 = 4 / 5\n",
    "a1 = 1 / 5\n",
    "R = 10 + (a0 * rho + a1 * (3 * rho**3 - 2 * rho)) * np.cos(theta)\n",
    "Z = -(a0 * rho + a1 * (3 * rho**3 - 2 * rho)) * np.sin(theta)\n",
    "eq.set_initial_guess(grid, R, Z)\n",
    "B = eq.compute(\"B\", grid=grid)[\"B\"]\n",
    "B_norm = eq.compute(\"|B|\", grid=grid)[\"|B|\"]\n",
    "J = eq.compute(\"J\", grid=grid)[\"J\"]\n",
    "J_norm = eq.compute(\"|J|\", grid=grid)[\"|J|\"]\n",
    "F_norm = eq.compute(\"|F|\", grid=grid)[\"|F|\"]\n",
    "F = eq.compute(\"F\", grid=grid)[\"F\"]"
   ]
  },
  {
   "cell_type": "code",
   "execution_count": 172,
   "metadata": {},
   "outputs": [],
   "source": [
    "def B_ana_cal(rho_in, a0, a1, Psi0):\n",
    "    if len(rho_in.shape)>1:\n",
    "        rho_in = rho[:,0]\n",
    "    else:\n",
    "        rho = rho_in\n",
    "    return (\n",
    "            Psi0\n",
    "            / np.pi\n",
    "            / (a0 + a1 * (3 * rho**2 - 2))\n",
    "            / (a0 - 2 * a1 + 9 * a1 * rho**2)\n",
    "        )\n",
    "\n",
    "def B_vec_ana_cal(rtz, a0, a1, Psi0):\n",
    "    rho = rtz[:,0]\n",
    "    B = B_ana_cal(rho, a0, a1, Psi0)\n",
    "    return np.stack((np.zeros_like(rho),B,np.zeros_like(rho)),axis=1)\n",
    "\n",
    "\n",
    "def p_ana_cal(rho_in, a0, a1, Psi):\n",
    "    if len(rho_in.shape)>1:\n",
    "        rho_in = rho[:,0]\n",
    "    else:\n",
    "        rho = rho_in\n",
    "    term1 = (a0 - 2 * a1 + 3 * a1 * rho**2) ** 2\n",
    "    term2 = (a0 - 2 * a1 + 9 * a1 * rho**2) ** 2\n",
    "\n",
    "    result = - 1 / (2 * term1 * term2) * Psi**2 / np.pi**2 / mu_0 \n",
    "\n",
    "    return result\n",
    "\n",
    "\n",
    "def j_ana_cal(rho_in, a0, a1, Psi):\n",
    "    if len(rho_in.shape)>1:\n",
    "        rho_in = rho[:,0]\n",
    "    else:\n",
    "        rho = rho_in\n",
    "    numerator = 12 * a1 * rho * (2 * a0 - 4 * a1 + 9 * a1 * rho**2)\n",
    "    denominator = (3 * a1 * rho**2 + a0 - 2 * a1) ** 2 * (\n",
    "        9 * a1 * rho**2 + a0 - 2 * a1\n",
    "    ) ** 3\n",
    "\n",
    "    result = numerator / denominator * Psi / np.pi / mu_0\n",
    "\n",
    "    return result\n",
    "\n",
    "def j_vec_ana_cal(rtz, a0, a1, Psi):\n",
    "    rho = rtz[:,0]\n",
    "    theta = rtz[:,1]\n",
    "    j = j_ana_cal(rho, a0, a1, Psi)\n",
    "    return np.stack( (-j*np.sin(theta),np.zeros_like(rho), -j*np.cos(theta)),axis=1)\n",
    "\n",
    "\n",
    "def gradp_ana_cal(rho, a0, a1, Psi):\n",
    "    return j_ana_cal(rho, a0, a1, Psi) * B_ana_cal(rho, a0, a1, Psi)\n",
    "def gradp_vec_ana_cal(rtz,a0,a1,Psi):\n",
    "    rho = rtz[:,0]\n",
    "    theta = rtz[:,1]\n",
    "    F = gradp_ana_cal(rho, a0, a1, Psi)\n",
    "    return np.stack( (F*np.cos(theta),np.zeros_like(rho), -F*np.sin(theta)),axis=1)"
   ]
  },
  {
   "cell_type": "code",
   "execution_count": 186,
   "metadata": {},
   "outputs": [],
   "source": [
    "# Norm part of force balance \n",
    "np.testing.assert_allclose(J_norm*B_norm, F_norm, atol=1e-15,rtol=1e-15)"
   ]
  },
  {
   "cell_type": "code",
   "execution_count": 187,
   "metadata": {},
   "outputs": [],
   "source": [
    "B_ana = B_ana_cal(rho, a0, a1, eq.Psi)\n",
    "B_vec_ana = B_vec_ana_cal(rtz, a0,a1, eq.Psi)\n",
    "J_ana = j_ana_cal(rho, a0, a1, eq.Psi)\n",
    "J_vec_ana = j_vec_ana_cal(rtz, a0, a1, eq.Psi)\n",
    "p_ana = p_ana_cal(rho, a0, a1, eq.Psi)\n",
    "gradp_ana = gradp_ana_cal(rho, a0, a1, eq.Psi)\n",
    "gradp_vec_ana = gradp_vec_ana_cal(rtz, a0, a1, eq.Psi)"
   ]
  },
  {
   "cell_type": "code",
   "execution_count": 188,
   "metadata": {},
   "outputs": [],
   "source": [
    "np.testing.assert_allclose(B, B_vec_ana, atol=1e-10, rtol=1e-10)\n",
    "np.testing.assert_allclose(J, J_vec_ana, atol=1e-5, rtol=1e-5)\n",
    "np.testing.assert_allclose(F, gradp_vec_ana, atol=1e-6,rtol=1e-10)"
   ]
  },
  {
   "cell_type": "markdown",
   "metadata": {},
   "source": [
    "## Test azimuthal independence"
   ]
  },
  {
   "cell_type": "code",
   "execution_count": 116,
   "metadata": {},
   "outputs": [],
   "source": [
    "grid = LinearGrid(\n",
    "    rho=[0.5], theta=np.linspace(0, 2 * np.pi, 10), zeta=np.linspace(0, 2 * np.pi, 10)\n",
    ")"
   ]
  },
  {
   "cell_type": "code",
   "execution_count": 67,
   "metadata": {},
   "outputs": [],
   "source": [
    "from desc.compute.utils import dot"
   ]
  },
  {
   "cell_type": "code",
   "execution_count": 119,
   "metadata": {},
   "outputs": [
    {
     "data": {
      "text/plain": [
       "array([2045263.96160325, 2045263.96160325, 2045263.96160326,\n",
       "       2045263.96160326, 2045263.96160327, 2045263.96160327,\n",
       "       2045263.96160327, 2045263.96160326, 2045263.96160325,\n",
       "       2045263.96160325, 2045263.96160326, 2045263.96160326,\n",
       "       2045263.96160326, 2045263.96160326, 2045263.96160326,\n",
       "       2045263.96160327, 2045263.96160327, 2045263.96160326,\n",
       "       2045263.96160326, 2045263.96160326, 2045263.96160326,\n",
       "       2045263.96160326, 2045263.96160326, 2045263.96160326,\n",
       "       2045263.96160326, 2045263.96160327, 2045263.96160327,\n",
       "       2045263.96160326, 2045263.96160326, 2045263.96160326,\n",
       "       2045263.96160326, 2045263.96160326, 2045263.96160326,\n",
       "       2045263.96160326, 2045263.96160326, 2045263.96160327,\n",
       "       2045263.96160327, 2045263.96160326, 2045263.96160326,\n",
       "       2045263.96160326, 2045263.96160326, 2045263.96160326,\n",
       "       2045263.96160326, 2045263.96160326, 2045263.96160326,\n",
       "       2045263.96160327, 2045263.96160327, 2045263.96160326,\n",
       "       2045263.96160326, 2045263.96160326, 2045263.96160326,\n",
       "       2045263.96160326, 2045263.96160326, 2045263.96160326,\n",
       "       2045263.96160326, 2045263.96160327, 2045263.96160327,\n",
       "       2045263.96160326, 2045263.96160326, 2045263.96160326,\n",
       "       2045263.96160326, 2045263.96160326, 2045263.96160326,\n",
       "       2045263.96160326, 2045263.96160326, 2045263.96160327,\n",
       "       2045263.96160327, 2045263.96160326, 2045263.96160326,\n",
       "       2045263.96160326, 2045263.96160326, 2045263.96160326,\n",
       "       2045263.96160326, 2045263.96160326, 2045263.96160326,\n",
       "       2045263.96160327, 2045263.96160327, 2045263.96160326,\n",
       "       2045263.96160326, 2045263.96160326, 2045263.96160325,\n",
       "       2045263.96160326, 2045263.96160326, 2045263.96160326,\n",
       "       2045263.96160326, 2045263.96160327, 2045263.96160327,\n",
       "       2045263.96160326, 2045263.96160326, 2045263.96160325,\n",
       "       2045263.96160325, 2045263.96160325, 2045263.96160326,\n",
       "       2045263.96160326, 2045263.96160327, 2045263.96160327,\n",
       "       2045263.96160327, 2045263.96160326, 2045263.96160325,\n",
       "       2045263.96160325])"
      ]
     },
     "execution_count": 119,
     "metadata": {},
     "output_type": "execute_result"
    }
   ],
   "source": [
    "name = \"J\"\n",
    "np.linalg.norm(eq.compute(name, grid=grid)[name], axis=1)"
   ]
  },
  {
   "cell_type": "code",
   "execution_count": 120,
   "metadata": {},
   "outputs": [
    {
     "data": {
      "text/plain": [
       "array([1392572.70338768, 1392572.70338768, 1392572.70338768,\n",
       "       1392572.70338768, 1392572.70338769, 1392572.7033877 ,\n",
       "       1392572.7033877 , 1392572.70338769, 1392572.70338768,\n",
       "       1392572.70338768, 1392572.70338768, 1392572.70338769,\n",
       "       1392572.70338769, 1392572.70338768, 1392572.70338768,\n",
       "       1392572.70338769, 1392572.70338769, 1392572.70338769,\n",
       "       1392572.70338768, 1392572.70338768, 1392572.70338768,\n",
       "       1392572.70338768, 1392572.70338769, 1392572.70338768,\n",
       "       1392572.70338768, 1392572.70338769, 1392572.70338769,\n",
       "       1392572.70338768, 1392572.70338768, 1392572.70338768,\n",
       "       1392572.70338768, 1392572.70338768, 1392572.70338768,\n",
       "       1392572.70338768, 1392572.70338769, 1392572.70338769,\n",
       "       1392572.70338769, 1392572.70338769, 1392572.70338768,\n",
       "       1392572.70338768, 1392572.70338768, 1392572.70338768,\n",
       "       1392572.70338769, 1392572.70338768, 1392572.70338768,\n",
       "       1392572.70338769, 1392572.70338769, 1392572.70338769,\n",
       "       1392572.70338768, 1392572.70338768, 1392572.70338768,\n",
       "       1392572.70338768, 1392572.70338768, 1392572.70338768,\n",
       "       1392572.70338768, 1392572.70338769, 1392572.70338769,\n",
       "       1392572.70338769, 1392572.70338768, 1392572.70338768,\n",
       "       1392572.70338768, 1392572.70338768, 1392572.70338769,\n",
       "       1392572.70338768, 1392572.70338769, 1392572.70338769,\n",
       "       1392572.70338769, 1392572.70338769, 1392572.70338768,\n",
       "       1392572.70338768, 1392572.70338768, 1392572.70338768,\n",
       "       1392572.70338768, 1392572.70338768, 1392572.70338768,\n",
       "       1392572.70338769, 1392572.70338769, 1392572.70338768,\n",
       "       1392572.70338768, 1392572.70338768, 1392572.70338768,\n",
       "       1392572.70338768, 1392572.70338768, 1392572.70338768,\n",
       "       1392572.70338769, 1392572.70338769, 1392572.70338769,\n",
       "       1392572.70338769, 1392572.70338768, 1392572.70338768,\n",
       "       1392572.70338768, 1392572.70338768, 1392572.70338768,\n",
       "       1392572.70338768, 1392572.70338769, 1392572.7033877 ,\n",
       "       1392572.7033877 , 1392572.70338769, 1392572.70338768,\n",
       "       1392572.70338768])"
      ]
     },
     "execution_count": 120,
     "metadata": {},
     "output_type": "execute_result"
    }
   ],
   "source": [
    "name = \"F\"\n",
    "np.linalg.norm(eq.compute(name, grid=grid)[name], axis=1)"
   ]
  },
  {
   "cell_type": "markdown",
   "metadata": {},
   "source": [
    "# Compute Test 3"
   ]
  },
  {
   "cell_type": "markdown",
   "metadata": {},
   "source": [
    "# Solve Test"
   ]
  },
  {
   "cell_type": "code",
   "execution_count": 3,
   "metadata": {},
   "outputs": [],
   "source": [
    "Psi = 1\n",
    "a = 1\n",
    "R = 10\n",
    "A = ((2 * Psi) / (np.pi * a**2 * (np.sqrt(2) + 1))) ** 2\n",
    "p_coeff = A / 2 / mu_0\n",
    "\n",
    "p = PowerSeriesProfile(params=[p_coeff, -p_coeff], modes=[0, 2])\n",
    "\n",
    "iota = PowerSeriesProfile(params=[0, 0])\n",
    "\n",
    "surf = FourierRZToroidalSurface(\n",
    "    R_lmn=[R, a],\n",
    "    modes_R=[[0, 0], [1, 0]],\n",
    "    Z_lmn=[0, -a],\n",
    "    modes_Z=[[0, 0], [-1, 0]],\n",
    ")"
   ]
  },
  {
   "cell_type": "code",
   "execution_count": 26,
   "metadata": {},
   "outputs": [],
   "source": [
    "eq = Equilibrium(\n",
    "    surface=surf,\n",
    "    pressure=p,\n",
    "    iota=iota,\n",
    "    Psi=Psi,\n",
    "    NFP=1,\n",
    "    L=15,\n",
    "    M=5,\n",
    "    N=0,\n",
    "    L_grid=24,\n",
    "    M_grid=6,\n",
    "    N_grid=0,\n",
    ")"
   ]
  },
  {
   "cell_type": "code",
   "execution_count": 52,
   "metadata": {},
   "outputs": [],
   "source": [
    "from desc.plotting import plot_2d, plot_3d, plot_surfaces, plot_basis, plot_section"
   ]
  },
  {
   "cell_type": "code",
   "execution_count": 55,
   "metadata": {},
   "outputs": [
    {
     "data": {
      "text/plain": [
       "(<Figure size 359.711x359.711 with 2 Axes>,\n",
       " array([<Axes: title={'center': '$|\\\\mathbf{J}|$ ($A \\\\cdot m^{-2}$), $\\\\phi \\\\cdot N_{FP}/2\\\\pi = 0.000$'}, xlabel='$R ~(\\\\mathrm{m})$', ylabel='$Z ~(\\\\mathrm{m})$'>],\n",
       "       dtype=object))"
      ]
     },
     "execution_count": 55,
     "metadata": {},
     "output_type": "execute_result"
    },
    {
     "data": {
      "image/png": "[encoded data removed]",
      "text/plain": [
       "<Figure size 359.711x359.711 with 2 Axes>"
      ]
     },
     "metadata": {},
     "output_type": "display_data"
    }
   ],
   "source": [
    "plot_section(eq,\"|J|\")"
   ]
  },
  {
   "cell_type": "code",
   "execution_count": 43,
   "metadata": {},
   "outputs": [],
   "source": [
    "grid = LinearGrid(\n",
    "    rho=[0.5],\n",
    "    theta=np.linspace(0, 2 * np.pi, 20),\n",
    "    zeta=np.linspace(0, 2 * np.pi, 20),\n",
    ")"
   ]
  },
  {
   "cell_type": "code",
   "execution_count": 51,
   "metadata": {},
   "outputs": [
    {
     "data": {
      "text/plain": [
       "(<Figure size 287.769x359.711 with 1 Axes>,\n",
       " array([<Axes: title={'center': '$\\\\phi \\\\cdot N_{FP}/2\\\\pi = 0.000$'}, xlabel='$R ~(\\\\mathrm{m})$', ylabel='$Z ~(\\\\mathrm{m})$'>],\n",
       "       dtype=object))"
      ]
     },
     "execution_count": 51,
     "metadata": {},
     "output_type": "execute_result"
    },
    {
     "data": {
      "image/png": "[encoded data removed]",
      "text/plain": [
       "<Figure size 287.769x359.711 with 1 Axes>"
      ]
     },
     "metadata": {},
     "output_type": "display_data"
    }
   ],
   "source": [
    "plot_surfaces(eq)"
   ]
  },
  {
   "cell_type": "code",
   "execution_count": null,
   "metadata": {},
   "outputs": [],
   "source": []
  },
  {
   "cell_type": "code",
   "execution_count": 5,
   "metadata": {},
   "outputs": [],
   "source": [
    "from desc.optimize import Optimizer\n",
    "from desc.objectives import (\n",
    "    get_fixed_boundary_constraints,\n",
    "    ObjectiveFunction,\n",
    "    FixBoundaryR,\n",
    "    FixBoundaryZ,\n",
    "    FixPressure,\n",
    "    FixIota,\n",
    "    FixPsi,\n",
    "    ForceBalance,\n",
    ")\n",
    "\n",
    "optimizer = Optimizer(\"lsq-exact\")\n",
    "constraints = (\n",
    "    FixBoundaryR(eq=eq),  # enforce fixed  LCFS for R\n",
    "    FixBoundaryZ(eq=eq),  # enforce fixed  LCFS for Z\n",
    "    FixPressure(eq=eq),  # enforce that the pressure profile stay fixed\n",
    "    FixIota(eq=eq),  # enforce that the rotational transform profile stay fixed\n",
    "    FixPsi(eq=eq),  # enforce that the enclosed toroidal stay fixed\n",
    ")\n",
    "objectives = ForceBalance(eq=eq)\n",
    "obj = ObjectiveFunction(objectives=objectives)"
   ]
  },
  {
   "cell_type": "code",
   "execution_count": 7,
   "metadata": {},
   "outputs": [
    {
     "name": "stdout",
     "output_type": "stream",
     "text": [
      "Building objective: force\n",
      "Precomputing transforms\n",
      "Timer: Precomputing transforms = 2.40 sec\n",
      "Timer: Objective build = 5.25 sec\n",
      "Timer: Linear constraint projection build = 8.08 sec\n",
      "Compiling objective function and derivatives: ['force']\n",
      "Timer: Objective compilation time = 570 ms\n",
      "Timer: Jacobian compilation time = 1.40 sec\n",
      "Timer: Total compilation time = 1.97 sec\n",
      "Number of parameters: 99\n",
      "Number of objectives: 110\n",
      "Starting optimization\n",
      "Using method: lsq-exact\n",
      "   Iteration     Total nfev        Cost      Cost reduction    Step norm     Optimality   \n",
      "       0              1          1.365e-03                                    2.363e-01   \n",
      "       1              3          5.130e-04      8.522e-04      3.481e-02      1.655e-01   \n",
      "       2              4          9.827e-05      4.147e-04      5.451e-02      7.462e-02   \n",
      "       3              5          4.259e-06      9.401e-05      1.296e-01      5.823e-02   \n",
      "       4              6          8.116e-07      3.447e-06      2.035e-01      2.462e-02   \n",
      "       5              7          1.302e-08      7.986e-07      5.676e-02      8.379e-04   \n",
      "       6              9          6.675e-09      6.341e-09      7.273e-02      2.823e-03   \n",
      "       7             10          1.085e-10      6.567e-09      1.614e-02      2.166e-04   \n",
      "       8             12          1.002e-10      8.290e-12      1.187e-02      4.504e-04   \n",
      "       9             13          1.626e-12      9.857e-11      6.424e-03      2.783e-05   \n",
      "      10             15          1.472e-13      1.479e-12      1.784e-03      6.362e-06   \n",
      "Warning: Maximum number of iterations has been exceeded.\n",
      "         Current function value: 1.472e-13\n",
      "         Total delta_x: 1.801e-01\n",
      "         Iterations: 10\n",
      "         Function evaluations: 15\n",
      "         Jacobian evaluations: 11\n",
      "Timer: Solution time = 2.76 sec\n",
      "Timer: Avg time per step = 251 ms\n",
      "Start of solver\n",
      "Total (sum of squares):  1.365e-03, \n",
      "Maximum absolute Force error:  5.452e+04 (N)\n",
      "Minimum absolute Force error:  4.458e-15 (N)\n",
      "Average absolute Force error:  9.260e+03 (N)\n",
      "Maximum absolute Force error:  3.426e-03 (normalized)\n",
      "Minimum absolute Force error:  2.801e-22 (normalized)\n",
      "Average absolute Force error:  5.818e-04 (normalized)\n",
      "End of solver\n",
      "Total (sum of squares):  1.472e-13, \n",
      "Maximum absolute Force error:  1.965e+00 (N)\n",
      "Minimum absolute Force error:  2.223e-05 (N)\n",
      "Average absolute Force error:  7.747e-02 (N)\n",
      "Maximum absolute Force error:  1.235e-07 (normalized)\n",
      "Minimum absolute Force error:  1.397e-12 (normalized)\n",
      "Average absolute Force error:  4.868e-09 (normalized)\n"
     ]
    },
    {
     "data": {
      "text/plain": [
       "(Equilibrium at 0x17a6a2050 (L=15, M=5, N=0, NFP=1, sym=True, spectral_indexing=ansi),\n",
       "     message: Maximum number of iterations has been exceeded.\n",
       "     success: False\n",
       "         fun: [ 1.638e-11 -1.272e-09 ...  4.197e-11 -9.843e-10]\n",
       "           x: [-3.455e+00  1.317e+00 ... -1.637e-05  1.013e+01]\n",
       "         nit: 10\n",
       "        cost: 1.472224773185259e-13\n",
       "           v: [ 1.000e+00  1.000e+00 ...  1.000e+00  1.000e+00]\n",
       "  optimality: 6.362344037633483e-06\n",
       "        nfev: 15\n",
       "        njev: 11\n",
       "        allx: [Array([ 1.000e+01,  1.000e+00, ...,  0.000e+00, -1.000e+00],      dtype=float64), Array([ 9.999e+00,  1.010e+00, ...,  0.000e+00, -1.000e+00],      dtype=float64), Array([ 9.998e+00,  1.024e+00, ...,  0.000e+00, -1.000e+00],      dtype=float64), Array([ 1.001e+01,  1.034e+00, ...,  0.000e+00, -1.000e+00],      dtype=float64), Array([ 1.002e+01,  1.025e+00, ...,  0.000e+00, -1.000e+00],      dtype=float64), Array([ 1.001e+01,  1.025e+00, ...,  0.000e+00, -1.000e+00],      dtype=float64), Array([ 1.001e+01,  1.026e+00, ...,  0.000e+00, -1.000e+00],      dtype=float64), Array([ 1.001e+01,  1.027e+00, ...,  0.000e+00, -1.000e+00],      dtype=float64), Array([ 1.001e+01,  1.028e+00, ...,  0.000e+00, -1.000e+00],      dtype=float64), Array([ 1.001e+01,  1.028e+00, ...,  0.000e+00, -1.000e+00],      dtype=float64), Array([ 1.001e+01,  1.028e+00, ...,  0.000e+00, -1.000e+00],      dtype=float64)]\n",
       "       alltr: [Array( 1.782e+01, dtype=float64), Array( 2.027e-01, dtype=float64), Array( 4.055e-01, dtype=float64), Array( 8.109e-01, dtype=float64), Array( 1.622e+00, dtype=float64), Array( 1.770e+00, dtype=float64), Array( 1.770e+00, dtype=float64), Array( 2.002e-01, dtype=float64), Array( 2.002e-01, dtype=float64), Array( 2.002e-01, dtype=float64), Array( 5.005e-02, dtype=float64), Array( 1.251e-02, dtype=float64), Array( 2.503e-02, dtype=float64), Array( 6.256e-03, dtype=float64), Array( 1.251e-02, dtype=float64)]\n",
       "     history:  R_lmn: [Array([ 1.000e+01,  1.000e+00, ..., -1.388e-16,\n",
       "                             -1.110e-16], dtype=float64), Array([ 9.999e+00,  1.010e+00, ..., -8.958e-04,\n",
       "                             -6.891e-05], dtype=float64), Array([ 9.998e+00,  1.024e+00, ..., -2.498e-03,\n",
       "                             -6.014e-04], dtype=float64), Array([ 1.001e+01,  1.034e+00, ..., -6.623e-04,\n",
       "                             -3.169e-04], dtype=float64), Array([ 1.002e+01,  1.025e+00, ..., -6.987e-04,\n",
       "                             -7.496e-05], dtype=float64), Array([ 1.001e+01,  1.025e+00, ..., -2.015e-04,\n",
       "                             -4.317e-05], dtype=float64), Array([ 1.001e+01,  1.026e+00, ..., -1.044e-04,\n",
       "                             -1.935e-05], dtype=float64), Array([ 1.001e+01,  1.027e+00, ..., -5.524e-05,\n",
       "                             -2.072e-05], dtype=float64), Array([ 1.001e+01,  1.028e+00, ..., -2.880e-05,\n",
       "                             -1.256e-05], dtype=float64), Array([ 1.001e+01,  1.028e+00, ..., -1.578e-05,\n",
       "                             -6.370e-06], dtype=float64), Array([ 1.001e+01,  1.028e+00, ..., -6.715e-06,\n",
       "                             -3.464e-06], dtype=float64)]\n",
       "               Z_lmn: [Array([-1.000e+00,  2.082e-17, ..., -2.429e-17,\n",
       "                              1.110e-16], dtype=float64), Array([-1.008e+00, -6.326e-04, ...,  1.356e-03,\n",
       "                              1.476e-03], dtype=float64), Array([-1.017e+00,  5.031e-05, ...,  3.916e-03,\n",
       "                              3.411e-03], dtype=float64), Array([-1.022e+00,  9.576e-04, ...,  1.508e-03,\n",
       "                              6.720e-04], dtype=float64), Array([-1.030e+00,  9.064e-05, ...,  6.729e-04,\n",
       "                              5.160e-04], dtype=float64), Array([-1.031e+00,  1.923e-03, ...,  2.705e-04,\n",
       "                              2.714e-04], dtype=float64), Array([-1.030e+00,  2.161e-04, ...,  1.571e-04,\n",
       "                              1.303e-04], dtype=float64), Array([-1.029e+00,  4.335e-04, ...,  8.671e-05,\n",
       "                              6.877e-05], dtype=float64), Array([-1.028e+00,  1.655e-04, ...,  4.599e-05,\n",
       "                              3.149e-05], dtype=float64), Array([-1.028e+00,  1.055e-04, ...,  2.285e-05,\n",
       "                              1.885e-05], dtype=float64), Array([-1.028e+00,  3.379e-05, ...,  1.031e-05,\n",
       "                              8.144e-06], dtype=float64)]\n",
       "               L_lmn: [Array([ 0.000e+00,  0.000e+00, ...,  0.000e+00,\n",
       "                              0.000e+00], dtype=float64), Array([ 4.445e-03, -2.457e-03, ..., -1.489e-04,\n",
       "                              2.429e-04], dtype=float64), Array([ 6.837e-03, -9.937e-03, ..., -1.454e-03,\n",
       "                             -1.153e-04], dtype=float64), Array([-2.807e-02, -1.806e-02, ..., -4.727e-04,\n",
       "                              5.605e-04], dtype=float64), Array([-6.489e-02,  9.984e-03, ...,  1.935e-04,\n",
       "                             -1.525e-03], dtype=float64), Array([-4.930e-02,  1.205e-02, ..., -1.092e-04,\n",
       "                             -9.630e-04], dtype=float64), Array([-4.740e-02,  6.966e-03, ..., -1.084e-04,\n",
       "                             -4.037e-04], dtype=float64), Array([-4.240e-02,  2.802e-03, ..., -1.100e-04,\n",
       "                             -1.132e-04], dtype=float64), Array([-4.273e-02,  1.611e-04, ..., -6.210e-05,\n",
       "                             -3.410e-05], dtype=float64), Array([-4.313e-02, -1.504e-04, ..., -2.917e-05,\n",
       "                             -3.285e-05], dtype=float64), Array([-4.316e-02, -1.107e-04, ..., -1.600e-05,\n",
       "                             -1.637e-05], dtype=float64)]\n",
       "                 p_l: [Array([ 2.767e+04, -2.767e+04,  0.000e+00,  0.000e+00,\n",
       "                              0.000e+00,  0.000e+00,  0.000e+00,  0.000e+00],      dtype=float64), Array([ 2.767e+04, -2.767e+04,  0.000e+00,  0.000e+00,\n",
       "                              0.000e+00,  0.000e+00,  0.000e+00,  0.000e+00],      dtype=float64), Array([ 2.767e+04, -2.767e+04,  0.000e+00,  0.000e+00,\n",
       "                              0.000e+00,  0.000e+00,  0.000e+00,  0.000e+00],      dtype=float64), Array([ 2.767e+04, -2.767e+04,  0.000e+00,  0.000e+00,\n",
       "                              0.000e+00,  0.000e+00,  0.000e+00,  0.000e+00],      dtype=float64), Array([ 2.767e+04, -2.767e+04,  0.000e+00,  0.000e+00,\n",
       "                              0.000e+00,  0.000e+00,  0.000e+00,  0.000e+00],      dtype=float64), Array([ 2.767e+04, -2.767e+04,  0.000e+00,  0.000e+00,\n",
       "                              0.000e+00,  0.000e+00,  0.000e+00,  0.000e+00],      dtype=float64), Array([ 2.767e+04, -2.767e+04,  0.000e+00,  0.000e+00,\n",
       "                              0.000e+00,  0.000e+00,  0.000e+00,  0.000e+00],      dtype=float64), Array([ 2.767e+04, -2.767e+04,  0.000e+00,  0.000e+00,\n",
       "                              0.000e+00,  0.000e+00,  0.000e+00,  0.000e+00],      dtype=float64), Array([ 2.767e+04, -2.767e+04,  0.000e+00,  0.000e+00,\n",
       "                              0.000e+00,  0.000e+00,  0.000e+00,  0.000e+00],      dtype=float64), Array([ 2.767e+04, -2.767e+04,  0.000e+00,  0.000e+00,\n",
       "                              0.000e+00,  0.000e+00,  0.000e+00,  0.000e+00],      dtype=float64), Array([ 2.767e+04, -2.767e+04,  0.000e+00,  0.000e+00,\n",
       "                              0.000e+00,  0.000e+00,  0.000e+00,  0.000e+00],      dtype=float64)]\n",
       "                 i_l: [Array([ 0.000e+00,  0.000e+00,  0.000e+00,  0.000e+00,\n",
       "                              0.000e+00,  0.000e+00,  0.000e+00,  0.000e+00],      dtype=float64), Array([ 0.000e+00,  0.000e+00,  0.000e+00,  0.000e+00,\n",
       "                              0.000e+00,  0.000e+00,  0.000e+00,  0.000e+00],      dtype=float64), Array([ 0.000e+00,  0.000e+00,  0.000e+00,  0.000e+00,\n",
       "                              0.000e+00,  0.000e+00,  0.000e+00,  0.000e+00],      dtype=float64), Array([ 0.000e+00,  0.000e+00,  0.000e+00,  0.000e+00,\n",
       "                              0.000e+00,  0.000e+00,  0.000e+00,  0.000e+00],      dtype=float64), Array([ 0.000e+00,  0.000e+00,  0.000e+00,  0.000e+00,\n",
       "                              0.000e+00,  0.000e+00,  0.000e+00,  0.000e+00],      dtype=float64), Array([ 0.000e+00,  0.000e+00,  0.000e+00,  0.000e+00,\n",
       "                              0.000e+00,  0.000e+00,  0.000e+00,  0.000e+00],      dtype=float64), Array([ 0.000e+00,  0.000e+00,  0.000e+00,  0.000e+00,\n",
       "                              0.000e+00,  0.000e+00,  0.000e+00,  0.000e+00],      dtype=float64), Array([ 0.000e+00,  0.000e+00,  0.000e+00,  0.000e+00,\n",
       "                              0.000e+00,  0.000e+00,  0.000e+00,  0.000e+00],      dtype=float64), Array([ 0.000e+00,  0.000e+00,  0.000e+00,  0.000e+00,\n",
       "                              0.000e+00,  0.000e+00,  0.000e+00,  0.000e+00],      dtype=float64), Array([ 0.000e+00,  0.000e+00,  0.000e+00,  0.000e+00,\n",
       "                              0.000e+00,  0.000e+00,  0.000e+00,  0.000e+00],      dtype=float64), Array([ 0.000e+00,  0.000e+00,  0.000e+00,  0.000e+00,\n",
       "                              0.000e+00,  0.000e+00,  0.000e+00,  0.000e+00],      dtype=float64)]\n",
       "                 c_l: [Array([], dtype=float64), Array([], dtype=float64), Array([], dtype=float64), Array([], dtype=float64), Array([], dtype=float64), Array([], dtype=float64), Array([], dtype=float64), Array([], dtype=float64), Array([], dtype=float64), Array([], dtype=float64), Array([], dtype=float64)]\n",
       "                 Psi: [Array([ 1.000e+00], dtype=float64), Array([ 1.000e+00], dtype=float64), Array([ 1.000e+00], dtype=float64), Array([ 1.000e+00], dtype=float64), Array([ 1.000e+00], dtype=float64), Array([ 1.000e+00], dtype=float64), Array([ 1.000e+00], dtype=float64), Array([ 1.000e+00], dtype=float64), Array([ 1.000e+00], dtype=float64), Array([ 1.000e+00], dtype=float64), Array([ 1.000e+00], dtype=float64)]\n",
       "                Te_l: [Array([], dtype=float64), Array([], dtype=float64), Array([], dtype=float64), Array([], dtype=float64), Array([], dtype=float64), Array([], dtype=float64), Array([], dtype=float64), Array([], dtype=float64), Array([], dtype=float64), Array([], dtype=float64), Array([], dtype=float64)]\n",
       "                ne_l: [Array([], dtype=float64), Array([], dtype=float64), Array([], dtype=float64), Array([], dtype=float64), Array([], dtype=float64), Array([], dtype=float64), Array([], dtype=float64), Array([], dtype=float64), Array([], dtype=float64), Array([], dtype=float64), Array([], dtype=float64)]\n",
       "                Ti_l: [Array([], dtype=float64), Array([], dtype=float64), Array([], dtype=float64), Array([], dtype=float64), Array([], dtype=float64), Array([], dtype=float64), Array([], dtype=float64), Array([], dtype=float64), Array([], dtype=float64), Array([], dtype=float64), Array([], dtype=float64)]\n",
       "              Zeff_l: [Array([], dtype=float64), Array([], dtype=float64), Array([], dtype=float64), Array([], dtype=float64), Array([], dtype=float64), Array([], dtype=float64), Array([], dtype=float64), Array([], dtype=float64), Array([], dtype=float64), Array([], dtype=float64), Array([], dtype=float64)]\n",
       "                Ra_n: [Array([ 1.000e+01], dtype=float64), Array([ 9.999e+00], dtype=float64), Array([ 9.998e+00], dtype=float64), Array([ 1.003e+01], dtype=float64), Array([ 1.008e+01], dtype=float64), Array([ 1.007e+01], dtype=float64), Array([ 1.006e+01], dtype=float64), Array([ 1.006e+01], dtype=float64), Array([ 1.006e+01], dtype=float64), Array([ 1.006e+01], dtype=float64), Array([ 1.006e+01], dtype=float64)]\n",
       "                Za_n: [Array([], dtype=float64), Array([], dtype=float64), Array([], dtype=float64), Array([], dtype=float64), Array([], dtype=float64), Array([], dtype=float64), Array([], dtype=float64), Array([], dtype=float64), Array([], dtype=float64), Array([], dtype=float64), Array([], dtype=float64)]\n",
       "              Rb_lmn: [Array([ 1.000e+01,  1.000e+00,  0.000e+00,  0.000e+00,\n",
       "                              0.000e+00,  0.000e+00], dtype=float64), Array([ 1.000e+01,  1.000e+00,  0.000e+00,  0.000e+00,\n",
       "                              0.000e+00,  0.000e+00], dtype=float64), Array([ 1.000e+01,  1.000e+00,  0.000e+00,  0.000e+00,\n",
       "                              0.000e+00,  0.000e+00], dtype=float64), Array([ 1.000e+01,  1.000e+00,  0.000e+00,  0.000e+00,\n",
       "                              0.000e+00,  0.000e+00], dtype=float64), Array([ 1.000e+01,  1.000e+00,  0.000e+00,  0.000e+00,\n",
       "                              0.000e+00,  0.000e+00], dtype=float64), Array([ 1.000e+01,  1.000e+00,  0.000e+00,  0.000e+00,\n",
       "                              0.000e+00,  0.000e+00], dtype=float64), Array([ 1.000e+01,  1.000e+00,  0.000e+00,  0.000e+00,\n",
       "                              0.000e+00,  0.000e+00], dtype=float64), Array([ 1.000e+01,  1.000e+00,  0.000e+00,  0.000e+00,\n",
       "                              0.000e+00,  0.000e+00], dtype=float64), Array([ 1.000e+01,  1.000e+00,  0.000e+00,  0.000e+00,\n",
       "                              0.000e+00,  0.000e+00], dtype=float64), Array([ 1.000e+01,  1.000e+00,  0.000e+00,  0.000e+00,\n",
       "                              0.000e+00,  0.000e+00], dtype=float64), Array([ 1.000e+01,  1.000e+00,  0.000e+00,  0.000e+00,\n",
       "                              0.000e+00,  0.000e+00], dtype=float64)]\n",
       "              Zb_lmn: [Array([ 0.000e+00,  0.000e+00,  0.000e+00,  0.000e+00,\n",
       "                             -1.000e+00], dtype=float64), Array([ 0.000e+00,  0.000e+00,  0.000e+00,  0.000e+00,\n",
       "                             -1.000e+00], dtype=float64), Array([ 0.000e+00,  0.000e+00,  0.000e+00,  0.000e+00,\n",
       "                             -1.000e+00], dtype=float64), Array([ 0.000e+00,  0.000e+00,  0.000e+00,  0.000e+00,\n",
       "                             -1.000e+00], dtype=float64), Array([ 0.000e+00,  0.000e+00,  0.000e+00,  0.000e+00,\n",
       "                             -1.000e+00], dtype=float64), Array([ 0.000e+00,  0.000e+00,  0.000e+00,  0.000e+00,\n",
       "                             -1.000e+00], dtype=float64), Array([ 0.000e+00,  0.000e+00,  0.000e+00,  0.000e+00,\n",
       "                             -1.000e+00], dtype=float64), Array([ 0.000e+00,  0.000e+00,  0.000e+00,  0.000e+00,\n",
       "                             -1.000e+00], dtype=float64), Array([ 0.000e+00,  0.000e+00,  0.000e+00,  0.000e+00,\n",
       "                             -1.000e+00], dtype=float64), Array([ 0.000e+00,  0.000e+00,  0.000e+00,  0.000e+00,\n",
       "                             -1.000e+00], dtype=float64), Array([ 0.000e+00,  0.000e+00,  0.000e+00,  0.000e+00,\n",
       "                             -1.000e+00], dtype=float64)])"
      ]
     },
     "execution_count": 7,
     "metadata": {},
     "output_type": "execute_result"
    }
   ],
   "source": [
    "eq.solve(\n",
    "    verbose=3,\n",
    "    ftol=1e-6,\n",
    "    xtol=1e-16,\n",
    "    gtol=1e-16,\n",
    "    maxiter=10,\n",
    "    constraints=constraints,\n",
    "    optimizer=optimizer,\n",
    "    objective=obj,\n",
    ")"
   ]
  },
  {
   "cell_type": "code",
   "execution_count": null,
   "metadata": {},
   "outputs": [],
   "source": [
    "from desc.continuation import solve_continuation_automatic\n",
    "\n",
    "solve_continuation_automatic(eq)"
   ]
  },
  {
   "cell_type": "code",
   "execution_count": 206,
   "metadata": {},
   "outputs": [],
   "source": [
    "grid = LinearGrid(rho=np.linspace(0, 1, 11), theta=[np.pi * 0.0], zeta=[0])\n",
    "\n",
    "data = eq.compute([\"R\", \"Z\"], grid=grid)\n",
    "rho = np.linalg.norm(np.stack((data[\"R\"] - R, data[\"Z\"]), axis=1), axis=1)"
   ]
  },
  {
   "cell_type": "code",
   "execution_count": 207,
   "metadata": {},
   "outputs": [
    {
     "data": {
      "text/plain": [
       "array([0.06327124, 0.17304309, 0.27785117, 0.37718508, 0.47118757,\n",
       "       0.56068988, 0.64714855, 0.73247392, 0.81872573, 0.90763888,\n",
       "       1.        ])"
      ]
     },
     "execution_count": 207,
     "metadata": {},
     "output_type": "execute_result"
    }
   ],
   "source": [
    "rho"
   ]
  },
  {
   "cell_type": "code",
   "execution_count": 183,
   "metadata": {},
   "outputs": [],
   "source": [
    "def r_test(rho, a):\n",
    "    return np.sqrt(np.sqrt(2) + 1) * a * np.sqrt(np.sqrt(1 + rho**2) - 1)"
   ]
  },
  {
   "cell_type": "code",
   "execution_count": 184,
   "metadata": {},
   "outputs": [
    {
     "data": {
      "text/plain": [
       "array([0.        , 0.10973167, 0.21865692, 0.32603588, 0.43124705,\n",
       "       0.53381575, 0.63341856, 0.72986961, 0.82309678, 0.91311478,\n",
       "       1.        ])"
      ]
     },
     "execution_count": 184,
     "metadata": {},
     "output_type": "execute_result"
    }
   ],
   "source": [
    "r_test(grid.nodes[:, 0], a)"
   ]
  }
 ],
 "metadata": {
  "kernelspec": {
   "display_name": "desc-mirror",
   "language": "python",
   "name": "python3"
  },
  "language_info": {
   "codemirror_mode": {
    "name": "ipython",
    "version": 3
   },
   "file_extension": ".py",
   "mimetype": "text/x-python",
   "name": "python",
   "nbconvert_exporter": "python",
   "pygments_lexer": "ipython3",
   "version": "3.11.5"
  }
 },
 "nbformat": 4,
 "nbformat_minor": 2
}
