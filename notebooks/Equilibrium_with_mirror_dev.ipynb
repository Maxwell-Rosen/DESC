{
 "cells": [
  {
   "cell_type": "code",
   "execution_count": 9,
   "metadata": {},
   "outputs": [],
   "source": [
    "from desc.transform import Transform\n",
    "from desc.equilibrium import Equilibrium\n",
    "from desc.basis import ChebyshevZernikeBasis, chebyshev_z\n",
    "from desc.compute import compute\n",
    "from desc.grid import LinearGrid, ConcentricGrid, QuadratureGrid\n",
    "from desc.compute.utils import get_transforms\n",
    "from desc.objectives import (\n",
    "    FixEndCapLambda,\n",
    "    FixEndCapR,\n",
    "    FixEndCapZ,\n",
    "    FixBoundaryR,\n",
    "    FixBoundaryZ,\n",
    "    FixPsi,\n",
    "    FixPressure,\n",
    "    FixIota,\n",
    "    ForceBalance,\n",
    "    ObjectiveFunction,\n",
    ")\n",
    "import numpy as np\n",
    "from desc.optimize import Optimizer\n",
    "from desc.profiles import PowerSeriesProfile"
   ]
  },
  {
   "cell_type": "markdown",
   "metadata": {},
   "source": [
    "# Import tests"
   ]
  },
  {
   "cell_type": "code",
   "execution_count": 17,
   "metadata": {},
   "outputs": [],
   "source": [
    "p = PowerSeriesProfile(params=[0, 0], modes=[0, 2])\n",
    "iota = PowerSeriesProfile(params=[0, 0])\n",
    "eq = Equilibrium(L=3, M=3, N=3, mirror=True, pressure=p, iota=iota, sym=False, method=\"jitable\")"
   ]
  },
  {
   "cell_type": "code",
   "execution_count": 18,
   "metadata": {},
   "outputs": [],
   "source": [
    "constraints = (\n",
    "        FixEndCapLambda(0, eq=eq),\n",
    "        FixEndCapR(0, eq.eq),\n",
    "        FixEndCapZ(0, eq=eq),\n",
    "        FixEndCapLambda(2*np.pi, eq=eq),\n",
    "        FixEndCapR(2*np.pi, eq=eq),\n",
    "        FixEndCapZ(2*np.pi, eq=eq),\n",
    "        FixBoundaryR(eq=eq),\n",
    "        FixBoundaryZ(eq=eq),\n",
    "        FixPressure(eq=eq),\n",
    "        FixIota(eq=eq),\n",
    "        FixPsi(eq=eq),\n",
    "    )\n",
    "optimizer = Optimizer(\"lsq-exact\")\n",
    "objectives = ForceBalance(eq=eq)\n",
    "obj = ObjectiveFunction(objectives=objectives)"
   ]
  },
  {
   "cell_type": "code",
   "execution_count": 19,
   "metadata": {},
   "outputs": [
    {
     "name": "stdout",
     "output_type": "stream",
     "text": [
      "Building objective: force\n",
      "Precomputing transforms\n",
      "Compiling objective function and derivatives: ['force']\n",
      "Number of parameters: 32\n",
      "Number of objectives: 728\n",
      "Starting optimization\n",
      "Using method: lsq-exact\n",
      "`gtol` condition satisfied.\n",
      "         Current function value: 9.554e-29\n",
      "         Total delta_x: 0.000e+00\n",
      "         Iterations: 0\n",
      "         Function evaluations: 1\n",
      "         Jacobian evaluations: 1\n",
      "Start of solver\n",
      "Total (sum of squares):  1.550e-33, \n",
      "Maximum absolute Force error:  5.355e-11 (N)\n",
      "Minimum absolute Force error:  7.190e-13 (N)\n",
      "Average absolute Force error:  9.395e-12 (N)\n",
      "Maximum absolute Force error:  3.365e-18 (normalized)\n",
      "Minimum absolute Force error:  4.518e-20 (normalized)\n",
      "Average absolute Force error:  5.903e-19 (normalized)\n",
      "End of solver\n",
      "Total (sum of squares):  9.554e-29, \n",
      "Maximum absolute Force error:  2.485e-08 (N)\n",
      "Minimum absolute Force error:  2.942e-12 (N)\n",
      "Average absolute Force error:  2.755e-09 (N)\n",
      "Maximum absolute Force error:  1.561e-15 (normalized)\n",
      "Minimum absolute Force error:  1.849e-19 (normalized)\n",
      "Average absolute Force error:  1.731e-16 (normalized)\n"
     ]
    },
    {
     "data": {
      "text/plain": [
       "(Equilibrium at 0x2a2035590 (L=3, M=3, N=3, NFP=1, sym=False, spectral_indexing=ansi),\n",
       "     message: `gtol` condition satisfied.\n",
       "     success: True\n",
       "         fun: [ 1.725e-15  1.888e-16 ...  5.151e-16  1.332e-16]\n",
       "           x: [ 2.276e+00  5.379e+00 ...  4.705e-01 -8.155e-01]\n",
       "         nit: 0\n",
       "        cost: 9.553594130896942e-29\n",
       "           v: [ 1.000e+00  1.000e+00 ...  1.000e+00  1.000e+00]\n",
       "  optimality: 2.556280247078372e-15\n",
       "        nfev: 1\n",
       "        njev: 1\n",
       "        allx: [Array([ 1.000e+01,  7.300e-16, ...,  0.000e+00,  0.000e+00],      dtype=float64)]\n",
       "       alltr: [Array( 3.310e-01, dtype=float64)]\n",
       "     history:  R_lmn: [Array([ 1.000e+01,  7.300e-16, ..., -3.751e-15,\n",
       "                             -2.785e-16], dtype=float64)]\n",
       "               Z_lmn: [Array([ 1.790e-15, -1.000e+00, ..., -3.313e-16,\n",
       "                              1.278e-15], dtype=float64)]\n",
       "               L_lmn: [Array([ 9.424e-16, -6.112e-16, ..., -5.582e-16,\n",
       "                             -2.523e-16], dtype=float64)]\n",
       "                 p_l: [Array([ 0.000e+00,  0.000e+00], dtype=float64)]\n",
       "                 i_l: [Array([ 0.000e+00,  0.000e+00], dtype=float64)]\n",
       "                 c_l: [Array([], dtype=float64)]\n",
       "                 Psi: [Array([ 1.000e+00], dtype=float64)]\n",
       "                Te_l: [Array([], dtype=float64)]\n",
       "                ne_l: [Array([], dtype=float64)]\n",
       "                Ti_l: [Array([], dtype=float64)]\n",
       "              Zeff_l: [Array([], dtype=float64)]\n",
       "                Ra_n: [Array([ 1.000e+01, -7.943e-15, -2.665e-15,  5.553e-15],      dtype=float64)]\n",
       "                Za_n: [Array([-2.025e-15,  1.912e-15, -9.846e-16,  2.101e-16],      dtype=float64)]\n",
       "              Rb_lmn: [Array([ 0.000e+00,  0.000e+00, ...,  0.000e+00,\n",
       "                              0.000e+00], dtype=float64)]\n",
       "              Zb_lmn: [Array([ 0.000e+00,  0.000e+00, ...,  0.000e+00,\n",
       "                              0.000e+00], dtype=float64)])"
      ]
     },
     "execution_count": 19,
     "metadata": {},
     "output_type": "execute_result"
    }
   ],
   "source": [
    "eq.solve(objective=obj, constraints=constraints,optimizer=optimizer)"
   ]
  },
  {
   "cell_type": "markdown",
   "metadata": {},
   "source": [
    "# Compute tests"
   ]
  },
  {
   "cell_type": "code",
   "execution_count": 28,
   "metadata": {},
   "outputs": [],
   "source": [
    "grid = LinearGrid(L=3,M=3,N=3)"
   ]
  },
  {
   "cell_type": "code",
   "execution_count": 33,
   "metadata": {},
   "outputs": [],
   "source": [
    "tranf = Transform(basis=eq.R_basis,grid=grid,method=\"jitable\")\n",
    "# jitable is direct1"
   ]
  },
  {
   "cell_type": "code",
   "execution_count": 40,
   "metadata": {},
   "outputs": [
    {
     "data": {
      "text/plain": [
       "{'grid': LinearGrid at 0x291c07d50 (L=3, M=3, N=3, NFP=1, sym=False, node_pattern=linear),\n",
       " 'R': Transform at 0x293124350 (method=jitable, basis=ChebyshevZernikeBasis at 0x17f9a5890 (L=3, M=3, N=3, NFP=1, sym=False, spectral_indexing=ansi), grid=LinearGrid at 0x291c07d50 (L=3, M=3, N=3, NFP=1, sym=False, node_pattern=linear)),\n",
       " 'Z': Transform at 0x293195c90 (method=jitable, basis=ChebyshevZernikeBasis at 0x17f7c8590 (L=3, M=3, N=3, NFP=1, sym=False, spectral_indexing=ansi), grid=LinearGrid at 0x291c07d50 (L=3, M=3, N=3, NFP=1, sym=False, node_pattern=linear)),\n",
       " 'L': Transform at 0x29315acd0 (method=jitable, basis=ChebyshevZernikeBasis at 0x174a4da90 (L=3, M=3, N=3, NFP=1, sym=False, spectral_indexing=ansi), grid=LinearGrid at 0x291c07d50 (L=3, M=3, N=3, NFP=1, sym=False, node_pattern=linear))}"
      ]
     },
     "execution_count": 40,
     "metadata": {},
     "output_type": "execute_result"
    }
   ],
   "source": [
    "get_transforms(\"B\",eq,grid,jitable=True)"
   ]
  },
  {
   "cell_type": "code",
   "execution_count": 42,
   "metadata": {},
   "outputs": [
    {
     "data": {
      "text/plain": [
       "Array([[0.        , 0.31830989, 0.        ],\n",
       "       [0.        , 0.31830989, 0.        ],\n",
       "       [0.        , 0.31830989, 0.        ],\n",
       "       ...,\n",
       "       [0.        , 0.31830989, 0.        ],\n",
       "       [0.        , 0.31830989, 0.        ],\n",
       "       [0.        , 0.31830989, 0.        ]], dtype=float64)"
      ]
     },
     "execution_count": 42,
     "metadata": {},
     "output_type": "execute_result"
    }
   ],
   "source": [
    "eq.compute(\"B\")[\"B\"]"
   ]
  }
 ],
 "metadata": {
  "kernelspec": {
   "display_name": "desc-mirror",
   "language": "python",
   "name": "python3"
  },
  "language_info": {
   "codemirror_mode": {
    "name": "ipython",
    "version": 3
   },
   "file_extension": ".py",
   "mimetype": "text/x-python",
   "name": "python",
   "nbconvert_exporter": "python",
   "pygments_lexer": "ipython3",
   "version": "3.11.5"
  }
 },
 "nbformat": 4,
 "nbformat_minor": 2
}
